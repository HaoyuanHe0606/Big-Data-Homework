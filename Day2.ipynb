{
 "cells": [
  {
   "cell_type": "code",
   "execution_count": 9,
   "metadata": {
    "scrolled": true
   },
   "outputs": [
    {
     "name": "stdout",
     "output_type": "stream",
     "text": [
      "{'Yutong': '123', 'Haoyuan': '135', 'Jas': '156'}\n"
     ]
    },
    {
     "data": {
      "text/plain": [
       "'123'"
      ]
     },
     "execution_count": 9,
     "metadata": {},
     "output_type": "execute_result"
    }
   ],
   "source": [
    "a={'Yutong':'123', 'Haoyuan':'135', 'Jas':'156'}\n",
    "a['Yutong']"
   ]
  },
  {
   "cell_type": "code",
   "execution_count": 12,
   "metadata": {},
   "outputs": [
    {
     "name": "stdout",
     "output_type": "stream",
     "text": [
      "[1, 4, 9, 16, 25]\n"
     ]
    }
   ],
   "source": [
    "a_list=[1,2,3,4,5]\n",
    "squared_list=[]\n",
    "for item in a_list:\n",
    "    squared_list.append(item*item)\n",
    "print(squared_list)"
   ]
  },
  {
   "cell_type": "code",
   "execution_count": 41,
   "metadata": {},
   "outputs": [
    {
     "name": "stdout",
     "output_type": "stream",
     "text": [
      "black\n",
      "2\n"
     ]
    }
   ],
   "source": [
    "class Cat():\n",
    "    def __init__(self, color, jump):\n",
    "        self.color=color\n",
    "        self.jump=jump\n",
    "    def col(self):\n",
    "        print(self.color)\n",
    "    def jum(self):\n",
    "        print(self.jump)\n",
    "        \n",
    "my_cat=Cat('black',2)\n",
    "my_cat.col()\n",
    "my_cat.jum()"
   ]
  },
  {
   "cell_type": "code",
   "execution_count": 31,
   "metadata": {},
   "outputs": [
    {
     "name": "stdout",
     "output_type": "stream",
     "text": [
      "(3.0, -13.0)\n"
     ]
    }
   ],
   "source": [
    "import math\n",
    "def solve_equ(b,c):\n",
    "    val1=b/2.0\n",
    "    val2=val1**2\n",
    "    val3=val2+c\n",
    "    val4=math.sqrt(val3)\n",
    "    root1=val4-val1\n",
    "    root2=-val4-val1\n",
    "    return root1,root2\n",
    "print(solve_equ(10,39))"
   ]
  },
  {
   "cell_type": "code",
   "execution_count": 45,
   "metadata": {},
   "outputs": [
    {
     "data": {
      "image/png": "[encoded data removed]",
      "text/plain": [
       "<Figure size 432x288 with 2 Axes>"
      ]
     },
     "metadata": {
      "needs_background": "light"
     },
     "output_type": "display_data"
    }
   ],
   "source": [
    "import numpy as np \n",
    "import matplotlib.pyplot as plt \n",
    "\n",
    "x = np.arange(0,  3  * np.pi,  0.1) \n",
    "y_sin = np.sin(x) \n",
    "y_cos = np.cos(x)  \n",
    "\n",
    "plt.subplot(2,  1,  1)  \n",
    "\n",
    "plt.plot(x, y_sin) \n",
    "plt.title('Sine')  \n",
    "\n",
    "plt.subplot(2,  1,  2) \n",
    "plt.plot(x, y_cos) \n",
    "plt.title('Cosine')  \n",
    "\n",
    "\n",
    "plt.show()\n"
   ]
  },
  {
   "cell_type": "code",
   "execution_count": null,
   "metadata": {},
   "outputs": [],
   "source": []
  }
 ],
 "metadata": {
  "kernelspec": {
   "display_name": "Python 3",
   "language": "python",
   "name": "python3"
  },
  "language_info": {
   "codemirror_mode": {
    "name": "ipython",
    "version": 3
   },
   "file_extension": ".py",
   "mimetype": "text/x-python",
   "name": "python",
   "nbconvert_exporter": "python",
   "pygments_lexer": "ipython3",
   "version": "3.8.3"
  }
 },
 "nbformat": 4,
 "nbformat_minor": 4
}
